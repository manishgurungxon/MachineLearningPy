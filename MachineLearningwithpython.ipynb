{
  "nbformat": 4,
  "nbformat_minor": 0,
  "metadata": {
    "colab": {
      "provenance": [],
      "collapsed_sections": [],
      "authorship_tag": "ABX9TyO23b1SXL24kGZvEI035+z3",
      "include_colab_link": true
    },
    "kernelspec": {
      "name": "python3",
      "display_name": "Python 3"
    },
    "language_info": {
      "name": "python"
    }
  },
  "cells": [
    {
      "cell_type": "markdown",
      "metadata": {
        "id": "view-in-github",
        "colab_type": "text"
      },
      "source": [
        "<a href=\"https://colab.research.google.com/github/manishgurungxon/MachineLearningPy/blob/main/MachineLearningwithpython.ipynb\" target=\"_parent\"><img src=\"https://colab.research.google.com/assets/colab-badge.svg\" alt=\"Open In Colab\"/></a>"
      ]
    },
    {
      "cell_type": "markdown",
      "source": [
        "Data Preprocessing\n",
        "The phas where the datasets are cleaned, transformed and reduced before feeding it to the Machine. \n",
        "Concepts in Machine Learning:\n",
        "1. Import Python Libraries\n",
        "a. Pandas\n",
        "b. Numpy\n",
        "c. Matplotlib + seaborn\n",
        "d. Scikit-learn\n",
        "e. Tensorflow\n",
        "f. Theano\n",
        "g. Scipy\n",
        "2. Import Dataset\n",
        "a. read_csv\n",
        "b. read_json\n",
        "c. url\n",
        "3. Divide data into independent and Dependent\n",
        "*   X ( Independent )\n",
        "*   Y ( Dependent )\n",
        "4. Missing Data\n",
        "*   Mean\n",
        "*   Median\n",
        "*   Constant\n",
        "*   Most Frequent\n",
        "5. Categorical Data\n",
        "*   OneHotEncoder\n",
        "*   LabelEncoder\n",
        "6. Splitting Data into Train and Test model\n",
        "a. Train(75-90%)\n",
        "b. Test(10-25%)\n",
        "7. Feature Scaling\n",
        "a. StandardScaler(Normalization)\n",
        "\n",
        "\n",
        "\n",
        "\n",
        "\n"
      ],
      "metadata": {
        "id": "fHJuKmyLkVdY"
      }
    },
    {
      "cell_type": "code",
      "source": [
        "#import libraries\n",
        "import pandas as pd\n",
        "import numpy as np\n",
        "from matplotlib import pyplot as pyplot\n"
      ],
      "metadata": {
        "id": "M8eSVEjjkMl5"
      },
      "execution_count": 1,
      "outputs": []
    },
    {
      "cell_type": "code",
      "execution_count": 3,
      "metadata": {
        "id": "MeTGhkFnjU6h"
      },
      "outputs": [],
      "source": [
        "df = pd.read_csv('Data.csv')"
      ]
    },
    {
      "cell_type": "code",
      "source": [
        "df"
      ],
      "metadata": {
        "colab": {
          "base_uri": "https://localhost:8080/",
          "height": 424
        },
        "id": "7HewXU52rlZW",
        "outputId": "a790d642-76b2-4833-b1ba-a42fb1e88674"
      },
      "execution_count": 4,
      "outputs": [
        {
          "output_type": "execute_result",
          "data": {
            "text/plain": [
              "                      Country  Confirmed_Cases  Suspected_Cases  Hospitalized  \\\n",
              "0                     England           3412.0              0.0           5.0   \n",
              "1                    Portugal            908.0              0.0           0.0   \n",
              "2                       Spain           7083.0              0.0          13.0   \n",
              "3               United States          24403.0              0.0           4.0   \n",
              "4                      Canada           1388.0             12.0           1.0   \n",
              "..                        ...              ...              ...           ...   \n",
              "124  Central African Republic              8.0              9.0           0.0   \n",
              "125         Republic of Congo              3.0              5.0           0.0   \n",
              "126                  Cameroon              7.0             27.0           0.0   \n",
              "127                   Liberia              2.0              0.0           0.0   \n",
              "128              Sierra Leone              0.0              2.0           0.0   \n",
              "\n",
              "     Travel_History_Yes  Travel_History_No  \n",
              "0                   2.0                7.0  \n",
              "1                   0.0               34.0  \n",
              "2                   2.0                0.0  \n",
              "3                  41.0               11.0  \n",
              "4                   5.0                0.0  \n",
              "..                  ...                ...  \n",
              "124                 0.0                0.0  \n",
              "125                 0.0                0.0  \n",
              "126                 0.0                0.0  \n",
              "127                 0.0                0.0  \n",
              "128                 0.0                0.0  \n",
              "\n",
              "[129 rows x 6 columns]"
            ],
            "text/html": [
              "\n",
              "  <div id=\"df-fa0cce4d-7d9a-4e6c-a937-3a1b37c5d467\">\n",
              "    <div class=\"colab-df-container\">\n",
              "      <div>\n",
              "<style scoped>\n",
              "    .dataframe tbody tr th:only-of-type {\n",
              "        vertical-align: middle;\n",
              "    }\n",
              "\n",
              "    .dataframe tbody tr th {\n",
              "        vertical-align: top;\n",
              "    }\n",
              "\n",
              "    .dataframe thead th {\n",
              "        text-align: right;\n",
              "    }\n",
              "</style>\n",
              "<table border=\"1\" class=\"dataframe\">\n",
              "  <thead>\n",
              "    <tr style=\"text-align: right;\">\n",
              "      <th></th>\n",
              "      <th>Country</th>\n",
              "      <th>Confirmed_Cases</th>\n",
              "      <th>Suspected_Cases</th>\n",
              "      <th>Hospitalized</th>\n",
              "      <th>Travel_History_Yes</th>\n",
              "      <th>Travel_History_No</th>\n",
              "    </tr>\n",
              "  </thead>\n",
              "  <tbody>\n",
              "    <tr>\n",
              "      <th>0</th>\n",
              "      <td>England</td>\n",
              "      <td>3412.0</td>\n",
              "      <td>0.0</td>\n",
              "      <td>5.0</td>\n",
              "      <td>2.0</td>\n",
              "      <td>7.0</td>\n",
              "    </tr>\n",
              "    <tr>\n",
              "      <th>1</th>\n",
              "      <td>Portugal</td>\n",
              "      <td>908.0</td>\n",
              "      <td>0.0</td>\n",
              "      <td>0.0</td>\n",
              "      <td>0.0</td>\n",
              "      <td>34.0</td>\n",
              "    </tr>\n",
              "    <tr>\n",
              "      <th>2</th>\n",
              "      <td>Spain</td>\n",
              "      <td>7083.0</td>\n",
              "      <td>0.0</td>\n",
              "      <td>13.0</td>\n",
              "      <td>2.0</td>\n",
              "      <td>0.0</td>\n",
              "    </tr>\n",
              "    <tr>\n",
              "      <th>3</th>\n",
              "      <td>United States</td>\n",
              "      <td>24403.0</td>\n",
              "      <td>0.0</td>\n",
              "      <td>4.0</td>\n",
              "      <td>41.0</td>\n",
              "      <td>11.0</td>\n",
              "    </tr>\n",
              "    <tr>\n",
              "      <th>4</th>\n",
              "      <td>Canada</td>\n",
              "      <td>1388.0</td>\n",
              "      <td>12.0</td>\n",
              "      <td>1.0</td>\n",
              "      <td>5.0</td>\n",
              "      <td>0.0</td>\n",
              "    </tr>\n",
              "    <tr>\n",
              "      <th>...</th>\n",
              "      <td>...</td>\n",
              "      <td>...</td>\n",
              "      <td>...</td>\n",
              "      <td>...</td>\n",
              "      <td>...</td>\n",
              "      <td>...</td>\n",
              "    </tr>\n",
              "    <tr>\n",
              "      <th>124</th>\n",
              "      <td>Central African Republic</td>\n",
              "      <td>8.0</td>\n",
              "      <td>9.0</td>\n",
              "      <td>0.0</td>\n",
              "      <td>0.0</td>\n",
              "      <td>0.0</td>\n",
              "    </tr>\n",
              "    <tr>\n",
              "      <th>125</th>\n",
              "      <td>Republic of Congo</td>\n",
              "      <td>3.0</td>\n",
              "      <td>5.0</td>\n",
              "      <td>0.0</td>\n",
              "      <td>0.0</td>\n",
              "      <td>0.0</td>\n",
              "    </tr>\n",
              "    <tr>\n",
              "      <th>126</th>\n",
              "      <td>Cameroon</td>\n",
              "      <td>7.0</td>\n",
              "      <td>27.0</td>\n",
              "      <td>0.0</td>\n",
              "      <td>0.0</td>\n",
              "      <td>0.0</td>\n",
              "    </tr>\n",
              "    <tr>\n",
              "      <th>127</th>\n",
              "      <td>Liberia</td>\n",
              "      <td>2.0</td>\n",
              "      <td>0.0</td>\n",
              "      <td>0.0</td>\n",
              "      <td>0.0</td>\n",
              "      <td>0.0</td>\n",
              "    </tr>\n",
              "    <tr>\n",
              "      <th>128</th>\n",
              "      <td>Sierra Leone</td>\n",
              "      <td>0.0</td>\n",
              "      <td>2.0</td>\n",
              "      <td>0.0</td>\n",
              "      <td>0.0</td>\n",
              "      <td>0.0</td>\n",
              "    </tr>\n",
              "  </tbody>\n",
              "</table>\n",
              "<p>129 rows × 6 columns</p>\n",
              "</div>\n",
              "      <button class=\"colab-df-convert\" onclick=\"convertToInteractive('df-fa0cce4d-7d9a-4e6c-a937-3a1b37c5d467')\"\n",
              "              title=\"Convert this dataframe to an interactive table.\"\n",
              "              style=\"display:none;\">\n",
              "        \n",
              "  <svg xmlns=\"http://www.w3.org/2000/svg\" height=\"24px\"viewBox=\"0 0 24 24\"\n",
              "       width=\"24px\">\n",
              "    <path d=\"M0 0h24v24H0V0z\" fill=\"none\"/>\n",
              "    <path d=\"M18.56 5.44l.94 2.06.94-2.06 2.06-.94-2.06-.94-.94-2.06-.94 2.06-2.06.94zm-11 1L8.5 8.5l.94-2.06 2.06-.94-2.06-.94L8.5 2.5l-.94 2.06-2.06.94zm10 10l.94 2.06.94-2.06 2.06-.94-2.06-.94-.94-2.06-.94 2.06-2.06.94z\"/><path d=\"M17.41 7.96l-1.37-1.37c-.4-.4-.92-.59-1.43-.59-.52 0-1.04.2-1.43.59L10.3 9.45l-7.72 7.72c-.78.78-.78 2.05 0 2.83L4 21.41c.39.39.9.59 1.41.59.51 0 1.02-.2 1.41-.59l7.78-7.78 2.81-2.81c.8-.78.8-2.07 0-2.86zM5.41 20L4 18.59l7.72-7.72 1.47 1.35L5.41 20z\"/>\n",
              "  </svg>\n",
              "      </button>\n",
              "      \n",
              "  <style>\n",
              "    .colab-df-container {\n",
              "      display:flex;\n",
              "      flex-wrap:wrap;\n",
              "      gap: 12px;\n",
              "    }\n",
              "\n",
              "    .colab-df-convert {\n",
              "      background-color: #E8F0FE;\n",
              "      border: none;\n",
              "      border-radius: 50%;\n",
              "      cursor: pointer;\n",
              "      display: none;\n",
              "      fill: #1967D2;\n",
              "      height: 32px;\n",
              "      padding: 0 0 0 0;\n",
              "      width: 32px;\n",
              "    }\n",
              "\n",
              "    .colab-df-convert:hover {\n",
              "      background-color: #E2EBFA;\n",
              "      box-shadow: 0px 1px 2px rgba(60, 64, 67, 0.3), 0px 1px 3px 1px rgba(60, 64, 67, 0.15);\n",
              "      fill: #174EA6;\n",
              "    }\n",
              "\n",
              "    [theme=dark] .colab-df-convert {\n",
              "      background-color: #3B4455;\n",
              "      fill: #D2E3FC;\n",
              "    }\n",
              "\n",
              "    [theme=dark] .colab-df-convert:hover {\n",
              "      background-color: #434B5C;\n",
              "      box-shadow: 0px 1px 3px 1px rgba(0, 0, 0, 0.15);\n",
              "      filter: drop-shadow(0px 1px 2px rgba(0, 0, 0, 0.3));\n",
              "      fill: #FFFFFF;\n",
              "    }\n",
              "  </style>\n",
              "\n",
              "      <script>\n",
              "        const buttonEl =\n",
              "          document.querySelector('#df-fa0cce4d-7d9a-4e6c-a937-3a1b37c5d467 button.colab-df-convert');\n",
              "        buttonEl.style.display =\n",
              "          google.colab.kernel.accessAllowed ? 'block' : 'none';\n",
              "\n",
              "        async function convertToInteractive(key) {\n",
              "          const element = document.querySelector('#df-fa0cce4d-7d9a-4e6c-a937-3a1b37c5d467');\n",
              "          const dataTable =\n",
              "            await google.colab.kernel.invokeFunction('convertToInteractive',\n",
              "                                                     [key], {});\n",
              "          if (!dataTable) return;\n",
              "\n",
              "          const docLinkHtml = 'Like what you see? Visit the ' +\n",
              "            '<a target=\"_blank\" href=https://colab.research.google.com/notebooks/data_table.ipynb>data table notebook</a>'\n",
              "            + ' to learn more about interactive tables.';\n",
              "          element.innerHTML = '';\n",
              "          dataTable['output_type'] = 'display_data';\n",
              "          await google.colab.output.renderOutput(dataTable, element);\n",
              "          const docLink = document.createElement('div');\n",
              "          docLink.innerHTML = docLinkHtml;\n",
              "          element.appendChild(docLink);\n",
              "        }\n",
              "      </script>\n",
              "    </div>\n",
              "  </div>\n",
              "  "
            ]
          },
          "metadata": {},
          "execution_count": 4
        }
      ]
    },
    {
      "cell_type": "code",
      "source": [
        "# Divide the data into Independent and Dependent\n",
        "\n",
        "X = df.iloc[:,0:-2].values\n",
        "Y = df.iloc[:,-2:].values\n"
      ],
      "metadata": {
        "id": "U5_rUn95rqWB"
      },
      "execution_count": 27,
      "outputs": []
    },
    {
      "cell_type": "code",
      "source": [
        "print(X)"
      ],
      "metadata": {
        "colab": {
          "base_uri": "https://localhost:8080/"
        },
        "id": "XhZHBp0ysZos",
        "outputId": "2cf91e3a-1828-43ad-c6e2-57b9aa240db2"
      },
      "execution_count": 28,
      "outputs": [
        {
          "output_type": "stream",
          "name": "stdout",
          "text": [
            "[['England' 3412.0 0.0 5.0]\n",
            " ['Portugal' 908.0 0.0 0.0]\n",
            " ['Spain' 7083.0 0.0 13.0]\n",
            " ['United States' 24403.0 0.0 4.0]\n",
            " ['Canada' 1388.0 12.0 1.0]\n",
            " ['Sweden' 186.0 0.0 0.0]\n",
            " ['Italy' 837.0 0.0 18.0]\n",
            " ['France' 3934.0 0.0 1.0]\n",
            " ['Belgium' 757.0 0.0 2.0]\n",
            " ['Australia' 132.0 0.0 2.0]\n",
            " ['Germany' 3590.0 0.0 18.0]\n",
            " ['Netherlands' 1221.0 0.0 0.0]\n",
            " ['Israel' 250.0 0.0 3.0]\n",
            " ['Switzerland' 503.0 0.0 0.0]\n",
            " ['Greece' 72.0 0.0 2.0]\n",
            " ['Austria' 304.0 0.0 2.0]\n",
            " ['Argentina' 326.0 0.0 0.0]\n",
            " ['Denmark' 183.0 0.0 0.0]\n",
            " ['Morocco' 3.0 0.0 0.0]\n",
            " ['Slovenia' 46.0 0.0 0.0]\n",
            " ['Scotland' 93.0 0.0 1.0]\n",
            " ['Czech Republic' 66.0 0.0 1.0]\n",
            " ['United Arab Emirates' 16.0 0.0 0.0]\n",
            " ['Finland' 33.0 0.0 0.0]\n",
            " ['Wales' 46.0 0.0 0.0]\n",
            " ['Northern Ireland' 34.0 0.0 0.0]\n",
            " ['Sudan' 6.0 1.0 0.0]\n",
            " ['Bolivia' 155.0 0.0 5.0]\n",
            " ['Iran' 1.0 3.0 0.0]\n",
            " ['Ecuador' 93.0 1.0 2.0]\n",
            " ['Malta' 33.0 0.0 0.0]\n",
            " ['Ireland' 178.0 0.0 0.0]\n",
            " ['Mexico' 1367.0 0.0 0.0]\n",
            " ['Pakistan' 0.0 1.0 1.0]\n",
            " ['French Guiana' 0.0 0.0 0.0]\n",
            " ['Thailand' 8.0 0.0 4.0]\n",
            " ['Peru' 2251.0 0.0 2.0]\n",
            " ['Brazil' 7300.0 0.0 4.0]\n",
            " ['Malaysia' 0.0 0.0 0.0]\n",
            " ['Hungary' 77.0 0.0 0.0]\n",
            " ['Norway' 90.0 0.0 0.0]\n",
            " ['Paraguay' 1.0 0.0 0.0]\n",
            " ['Costa Rica' 4.0 2.0 1.0]\n",
            " ['Gibraltar' 6.0 0.0 1.0]\n",
            " ['Mauritius' 0.0 0.0 0.0]\n",
            " ['Haiti' 0.0 0.0 0.0]\n",
            " ['Uruguay' 6.0 0.0 0.0]\n",
            " ['Latvia' 5.0 0.0 0.0]\n",
            " ['Cayman Islands' 0.0 1.0 0.0]\n",
            " ['Kosovo' 0.0 0.0 1.0]\n",
            " ['Turkey' 11.0 0.0 0.0]\n",
            " ['Bahamas' 2.0 0.0 0.0]\n",
            " ['Ghana' 84.0 317.0 1.0]\n",
            " ['India' 12.0 0.0 4.0]\n",
            " ['Iceland' 12.0 0.0 0.0]\n",
            " ['Poland' 173.0 0.0 1.0]\n",
            " ['Bangladesh' 0.0 0.0 0.0]\n",
            " ['Uganda' 0.0 6.0 0.0]\n",
            " ['Cambodia' 0.0 0.0 0.0]\n",
            " ['Malawi' 0.0 0.0 0.0]\n",
            " ['Venezuela' 5.0 0.0 0.0]\n",
            " ['Romania' 39.0 0.0 7.0]\n",
            " ['Georgia' 2.0 0.0 0.0]\n",
            " ['Slovakia' 14.0 0.0 2.0]\n",
            " ['Luxembourg' 55.0 0.0 0.0]\n",
            " ['Nepal' 0.0 0.0 1.0]\n",
            " ['Chile' 783.0 2.0 2.0]\n",
            " ['Serbia' 40.0 0.0 0.0]\n",
            " ['Lebanon' 11.0 0.0 0.0]\n",
            " ['South Korea' 2.0 0.0 2.0]\n",
            " ['Singapore' 19.0 0.0 8.0]\n",
            " ['South Africa' 5.0 0.0 0.0]\n",
            " ['Taiwan' 3.0 0.0 1.0]\n",
            " ['Colombia' 1653.0 0.0 0.0]\n",
            " ['Croatia' 29.0 0.0 0.0]\n",
            " ['Bulgaria' 6.0 0.0 1.0]\n",
            " ['Somalia' 0.0 3.0 3.0]\n",
            " ['Zambia' 0.0 1.0 0.0]\n",
            " ['Fiji' 0.0 0.0 0.0]\n",
            " ['Benin' 3.0 0.0 0.0]\n",
            " ['Estonia' 11.0 0.0 0.0]\n",
            " ['Puerto Rico' 173.0 0.0 0.0]\n",
            " ['Panama' 13.0 0.0 0.0]\n",
            " ['Dominican Republic' 31.0 1.0 5.0]\n",
            " ['Jamaica' 13.0 0.0 0.0]\n",
            " ['New Zealand' 5.0 0.0 0.0]\n",
            " ['Russia' 2.0 0.0 1.0]\n",
            " ['Bosnia And Herzegovina' 3.0 0.0 0.0]\n",
            " ['Saudi Arabia' 8.0 0.0 1.0]\n",
            " ['Martinique' 7.0 0.0 0.0]\n",
            " ['Barbados' 1.0 0.0 0.0]\n",
            " ['Qatar' 5.0 0.0 1.0]\n",
            " ['Bermuda' 1.0 0.0 0.0]\n",
            " ['Japan' 4.0 0.0 4.0]\n",
            " ['Guadeloupe' 1.0 0.0 0.0]\n",
            " ['Andorra' 4.0 0.0 0.0]\n",
            " ['New Caledonia' 1.0 0.0 0.0]\n",
            " ['China' 1.0 0.0 0.0]\n",
            " ['Philippines' 4.0 0.0 1.0]\n",
            " ['Montenegro' 2.0 0.0 0.0]\n",
            " ['Cyprus' 5.0 0.0 3.0]\n",
            " ['Lithuania' 5.0 0.0 0.0]\n",
            " ['Guatemala' 15.0 0.0 0.0]\n",
            " ['Saint Martin (French part)' 1.0 0.0 0.0]\n",
            " ['Greenland' 2.0 0.0 0.0]\n",
            " ['Moldova' 2.0 0.0 1.0]\n",
            " ['Honduras' 6.0 0.0 0.0]\n",
            " ['Monaco' 3.0 0.0 0.0]\n",
            " ['Indonesia' 1.0 0.0 0.0]\n",
            " ['Curaçao' 3.0 0.0 0.0]\n",
            " ['Aruba' 3.0 0.0 0.0]\n",
            " ['Cuba' 2.0 0.0 2.0]\n",
            " ['Guyana' 2.0 0.0 2.0]\n",
            " ['El Salvador' 4.0 0.0 0.0]\n",
            " ['Belize' 0.0 0.0 0.0]\n",
            " ['Hong Kong' 1.0 0.0 1.0]\n",
            " ['South Sudan' 2.0 0.0 0.0]\n",
            " ['Egypt' 1.0 0.0 1.0]\n",
            " ['Jordan' 1.0 0.0 0.0]\n",
            " ['Guam' 1.0 0.0 0.0]\n",
            " ['Ukraine' 2.0 0.0 1.0]\n",
            " ['Bahrain' 1.0 0.0 0.0]\n",
            " ['Nigeria' 277.0 427.0 0.0]\n",
            " ['Democratic Republic Of The Congo' 195.0 2852.0 0.0]\n",
            " ['Central African Republic' 8.0 9.0 0.0]\n",
            " ['Republic of Congo' 3.0 5.0 0.0]\n",
            " ['Cameroon' 7.0 27.0 0.0]\n",
            " ['Liberia' 2.0 0.0 0.0]\n",
            " ['Sierra Leone' 0.0 2.0 0.0]]\n"
          ]
        }
      ]
    },
    {
      "cell_type": "code",
      "source": [
        "print(Y)"
      ],
      "metadata": {
        "colab": {
          "base_uri": "https://localhost:8080/"
        },
        "id": "0_p5wRPXseQv",
        "outputId": "b04bc71c-54d0-44fd-83ce-85a7c7348a79"
      },
      "execution_count": 29,
      "outputs": [
        {
          "output_type": "stream",
          "name": "stdout",
          "text": [
            "[[ 2.  7.]\n",
            " [ 0. 34.]\n",
            " [ 2.  0.]\n",
            " [41. 11.]\n",
            " [ 5.  0.]\n",
            " [ 0.  0.]\n",
            " [19.  4.]\n",
            " [ 2.  1.]\n",
            " [ 1.  0.]\n",
            " [ 9.  0.]\n",
            " [19. 16.]\n",
            " [ 1.  0.]\n",
            " [ 5.  0.]\n",
            " [ 3.  0.]\n",
            " [ 2.  0.]\n",
            " [ 1.  0.]\n",
            " [11.  1.]\n",
            " [ 3.  1.]\n",
            " [ 1.  0.]\n",
            " [ 2.  0.]\n",
            " [ 1.  0.]\n",
            " [ 6.  0.]\n",
            " [ 1.  0.]\n",
            " [ 3.  0.]\n",
            " [ 0.  0.]\n",
            " [ 0.  0.]\n",
            " [ 0.  0.]\n",
            " [ 2.  1.]\n",
            " [ 0.  0.]\n",
            " [ 1.  0.]\n",
            " [ 1.  0.]\n",
            " [ 0.  0.]\n",
            " [ 3.  0.]\n",
            " [ 0.  0.]\n",
            " [ 0.  0.]\n",
            " [ 5.  0.]\n",
            " [ 2.  0.]\n",
            " [20.  4.]\n",
            " [ 0.  0.]\n",
            " [ 0.  0.]\n",
            " [ 3.  0.]\n",
            " [ 2.  0.]\n",
            " [ 4.  0.]\n",
            " [ 0.  0.]\n",
            " [ 2.  1.]\n",
            " [ 0.  0.]\n",
            " [ 5.  0.]\n",
            " [ 1.  0.]\n",
            " [ 0.  0.]\n",
            " [ 0.  0.]\n",
            " [ 0.  0.]\n",
            " [ 1.  0.]\n",
            " [ 0.  0.]\n",
            " [ 4.  1.]\n",
            " [ 1.  0.]\n",
            " [ 0.  0.]\n",
            " [ 0.  0.]\n",
            " [ 0.  0.]\n",
            " [ 0.  0.]\n",
            " [ 0.  0.]\n",
            " [ 3.  0.]\n",
            " [ 0.  0.]\n",
            " [ 0.  0.]\n",
            " [ 3.  0.]\n",
            " [ 0.  0.]\n",
            " [ 1.  0.]\n",
            " [ 2.  0.]\n",
            " [ 0.  0.]\n",
            " [ 4.  0.]\n",
            " [ 1.  0.]\n",
            " [ 4.  0.]\n",
            " [ 3.  2.]\n",
            " [ 3.  0.]\n",
            " [ 3.  0.]\n",
            " [ 1.  0.]\n",
            " [ 3.  0.]\n",
            " [ 1.  0.]\n",
            " [ 1.  0.]\n",
            " [ 0.  0.]\n",
            " [ 2.  1.]\n",
            " [ 1.  0.]\n",
            " [ 6.  0.]\n",
            " [ 3.  0.]\n",
            " [ 1.  0.]\n",
            " [ 2.  4.]\n",
            " [ 4.  0.]\n",
            " [ 2.  0.]\n",
            " [ 0.  0.]\n",
            " [ 3.  0.]\n",
            " [ 1.  0.]\n",
            " [ 0.  0.]\n",
            " [ 0.  0.]\n",
            " [ 0.  0.]\n",
            " [ 3.  0.]\n",
            " [ 1.  0.]\n",
            " [ 0.  0.]\n",
            " [ 0.  0.]\n",
            " [ 1.  0.]\n",
            " [ 3.  1.]\n",
            " [ 0.  0.]\n",
            " [ 2.  0.]\n",
            " [ 0.  0.]\n",
            " [ 1.  0.]\n",
            " [ 0.  0.]\n",
            " [ 0.  0.]\n",
            " [ 0.  0.]\n",
            " [ 0.  0.]\n",
            " [ 0.  0.]\n",
            " [ 1.  0.]\n",
            " [ 1.  0.]\n",
            " [ 0.  0.]\n",
            " [ 2.  0.]\n",
            " [ 0.  0.]\n",
            " [ 0.  0.]\n",
            " [ 0.  0.]\n",
            " [ 1.  0.]\n",
            " [ 0.  0.]\n",
            " [ 0.  0.]\n",
            " [ 1.  0.]\n",
            " [ 1.  0.]\n",
            " [ 0.  1.]\n",
            " [ 1.  0.]\n",
            " [ 0.  0.]\n",
            " [ 0.  0.]\n",
            " [ 0.  0.]\n",
            " [ 0.  0.]\n",
            " [ 0.  0.]\n",
            " [ 0.  0.]\n",
            " [ 0.  0.]]\n"
          ]
        }
      ]
    },
    {
      "cell_type": "code",
      "source": [
        "#Mean\n",
        "(df.Confirmed_Cases.sum())/129"
      ],
      "metadata": {
        "colab": {
          "base_uri": "https://localhost:8080/"
        },
        "id": "vX2RDfTJtdpy",
        "outputId": "6a3a6776-ce3d-43d7-c9c2-072dbdb13530"
      },
      "execution_count": 23,
      "outputs": [
        {
          "output_type": "execute_result",
          "data": {
            "text/plain": [
              "505.5426356589147"
            ]
          },
          "metadata": {},
          "execution_count": 23
        }
      ]
    },
    {
      "cell_type": "code",
      "source": [
        "(df.Travel_History_Yes.sum())/129"
      ],
      "metadata": {
        "colab": {
          "base_uri": "https://localhost:8080/"
        },
        "id": "d0eb5Sp4uG04",
        "outputId": "36d8f1b5-77b2-4244-fb2b-a63705f7b681"
      },
      "execution_count": 24,
      "outputs": [
        {
          "output_type": "execute_result",
          "data": {
            "text/plain": [
              "2.124031007751938"
            ]
          },
          "metadata": {},
          "execution_count": 24
        }
      ]
    },
    {
      "cell_type": "code",
      "source": [
        "(df.Travel_History_No.sum())/129"
      ],
      "metadata": {
        "colab": {
          "base_uri": "https://localhost:8080/"
        },
        "id": "9YdCRHMtuW1l",
        "outputId": "562c60c2-41c8-44d6-a6bb-5d9846257de3"
      },
      "execution_count": 25,
      "outputs": [
        {
          "output_type": "execute_result",
          "data": {
            "text/plain": [
              "0.7054263565891473"
            ]
          },
          "metadata": {},
          "execution_count": 25
        }
      ]
    },
    {
      "cell_type": "code",
      "source": [
        "# Missing Data\n",
        "from sklearn.impute import SimpleImputer\n",
        "imputer = SimpleImputer(missing_values=np.nan, strategy='mean')\n",
        "#Link for sklearn.impute.SimpleImputer \n",
        "#https://scikit-learn.org/stable/modules/generated/sklearn.impute.SimpleImputer.html\n",
        "imputer.fit(X[:,1:4])\n",
        "X[:,1:4] = imputer.transform(X[:,1:4])\n",
        "X\n"
      ],
      "metadata": {
        "id": "f1oF0xh-uckf"
      },
      "execution_count": null,
      "outputs": []
    },
    {
      "cell_type": "code",
      "source": [
        "#Categorical Data\n",
        "from sklearn.compose import ColumnTransformer\n",
        "from sklearn.preprocessing import StandardScaler\n",
        "from sklearn.preprocessing import OneHotEncoder \n",
        "ct = ColumnTransformer(transformers=[('encoder', OneHotEncoder(), [0])], remainder='passthrough')\n",
        "Y = ct.fit_transform(Y)\n",
        "\n"
      ],
      "metadata": {
        "id": "TuVskmc7xoTu"
      },
      "execution_count": 40,
      "outputs": []
    },
    {
      "cell_type": "code",
      "source": [
        "X.shape()"
      ],
      "metadata": {
        "colab": {
          "base_uri": "https://localhost:8080/",
          "height": 167
        },
        "id": "jb9LdlDd4EhQ",
        "outputId": "39b9066d-169b-4dcb-b04c-0e633b12e20a"
      },
      "execution_count": 43,
      "outputs": [
        {
          "output_type": "error",
          "ename": "TypeError",
          "evalue": "ignored",
          "traceback": [
            "\u001b[0;31m---------------------------------------------------------------------------\u001b[0m",
            "\u001b[0;31mTypeError\u001b[0m                                 Traceback (most recent call last)",
            "\u001b[0;32m<ipython-input-43-386b8665a4c0>\u001b[0m in \u001b[0;36m<module>\u001b[0;34m\u001b[0m\n\u001b[0;32m----> 1\u001b[0;31m \u001b[0mX\u001b[0m\u001b[0;34m.\u001b[0m\u001b[0mshape\u001b[0m\u001b[0;34m(\u001b[0m\u001b[0;34m)\u001b[0m\u001b[0;34m\u001b[0m\u001b[0;34m\u001b[0m\u001b[0m\n\u001b[0m",
            "\u001b[0;31mTypeError\u001b[0m: 'tuple' object is not callable"
          ]
        }
      ]
    },
    {
      "cell_type": "code",
      "source": [
        "# Splitting to train and test\n",
        "\n",
        "from sklearn.model_selection import train_test_split\n",
        "test_labels = train_test_split (X,Y, test_size = 0.8, random_state = 0)\n"
      ],
      "metadata": {
        "colab": {
          "base_uri": "https://localhost:8080/",
          "height": 364
        },
        "id": "9JWqIifC2Zki",
        "outputId": "e124205d-af4b-44f4-d63c-af6356ce153f"
      },
      "execution_count": 41,
      "outputs": [
        {
          "output_type": "error",
          "ename": "TypeError",
          "evalue": "ignored",
          "traceback": [
            "\u001b[0;31m---------------------------------------------------------------------------\u001b[0m",
            "\u001b[0;31mTypeError\u001b[0m                                 Traceback (most recent call last)",
            "\u001b[0;32m<ipython-input-41-4695c4e36044>\u001b[0m in \u001b[0;36m<module>\u001b[0;34m\u001b[0m\n\u001b[1;32m      2\u001b[0m \u001b[0;34m\u001b[0m\u001b[0m\n\u001b[1;32m      3\u001b[0m \u001b[0;32mfrom\u001b[0m \u001b[0msklearn\u001b[0m\u001b[0;34m.\u001b[0m\u001b[0mmodel_selection\u001b[0m \u001b[0;32mimport\u001b[0m \u001b[0mtrain_test_split\u001b[0m\u001b[0;34m\u001b[0m\u001b[0;34m\u001b[0m\u001b[0m\n\u001b[0;32m----> 4\u001b[0;31m \u001b[0mtest_labels\u001b[0m \u001b[0;34m=\u001b[0m \u001b[0mtrain_test_split\u001b[0m \u001b[0;34m(\u001b[0m\u001b[0mX\u001b[0m\u001b[0;34m,\u001b[0m\u001b[0mY\u001b[0m\u001b[0;34m,\u001b[0m \u001b[0mtest_size\u001b[0m \u001b[0;34m=\u001b[0m \u001b[0;36m0.8\u001b[0m\u001b[0;34m,\u001b[0m \u001b[0mrandom_state\u001b[0m \u001b[0;34m=\u001b[0m \u001b[0;36m0\u001b[0m\u001b[0;34m)\u001b[0m\u001b[0;34m\u001b[0m\u001b[0;34m\u001b[0m\u001b[0m\n\u001b[0m",
            "\u001b[0;32m/usr/local/lib/python3.7/dist-packages/sklearn/model_selection/_split.py\u001b[0m in \u001b[0;36mtrain_test_split\u001b[0;34m(test_size, train_size, random_state, shuffle, stratify, *arrays)\u001b[0m\n\u001b[1;32m   2415\u001b[0m         \u001b[0;32mraise\u001b[0m \u001b[0mValueError\u001b[0m\u001b[0;34m(\u001b[0m\u001b[0;34m\"At least one array required as input\"\u001b[0m\u001b[0;34m)\u001b[0m\u001b[0;34m\u001b[0m\u001b[0;34m\u001b[0m\u001b[0m\n\u001b[1;32m   2416\u001b[0m \u001b[0;34m\u001b[0m\u001b[0m\n\u001b[0;32m-> 2417\u001b[0;31m     \u001b[0marrays\u001b[0m \u001b[0;34m=\u001b[0m \u001b[0mindexable\u001b[0m\u001b[0;34m(\u001b[0m\u001b[0;34m*\u001b[0m\u001b[0marrays\u001b[0m\u001b[0;34m)\u001b[0m\u001b[0;34m\u001b[0m\u001b[0;34m\u001b[0m\u001b[0m\n\u001b[0m\u001b[1;32m   2418\u001b[0m \u001b[0;34m\u001b[0m\u001b[0m\n\u001b[1;32m   2419\u001b[0m     \u001b[0mn_samples\u001b[0m \u001b[0;34m=\u001b[0m \u001b[0m_num_samples\u001b[0m\u001b[0;34m(\u001b[0m\u001b[0marrays\u001b[0m\u001b[0;34m[\u001b[0m\u001b[0;36m0\u001b[0m\u001b[0;34m]\u001b[0m\u001b[0;34m)\u001b[0m\u001b[0;34m\u001b[0m\u001b[0;34m\u001b[0m\u001b[0m\n",
            "\u001b[0;32m/usr/local/lib/python3.7/dist-packages/sklearn/utils/validation.py\u001b[0m in \u001b[0;36mindexable\u001b[0;34m(*iterables)\u001b[0m\n\u001b[1;32m    376\u001b[0m \u001b[0;34m\u001b[0m\u001b[0m\n\u001b[1;32m    377\u001b[0m     \u001b[0mresult\u001b[0m \u001b[0;34m=\u001b[0m \u001b[0;34m[\u001b[0m\u001b[0m_make_indexable\u001b[0m\u001b[0;34m(\u001b[0m\u001b[0mX\u001b[0m\u001b[0;34m)\u001b[0m \u001b[0;32mfor\u001b[0m \u001b[0mX\u001b[0m \u001b[0;32min\u001b[0m \u001b[0miterables\u001b[0m\u001b[0;34m]\u001b[0m\u001b[0;34m\u001b[0m\u001b[0;34m\u001b[0m\u001b[0m\n\u001b[0;32m--> 378\u001b[0;31m     \u001b[0mcheck_consistent_length\u001b[0m\u001b[0;34m(\u001b[0m\u001b[0;34m*\u001b[0m\u001b[0mresult\u001b[0m\u001b[0;34m)\u001b[0m\u001b[0;34m\u001b[0m\u001b[0;34m\u001b[0m\u001b[0m\n\u001b[0m\u001b[1;32m    379\u001b[0m     \u001b[0;32mreturn\u001b[0m \u001b[0mresult\u001b[0m\u001b[0;34m\u001b[0m\u001b[0;34m\u001b[0m\u001b[0m\n\u001b[1;32m    380\u001b[0m \u001b[0;34m\u001b[0m\u001b[0m\n",
            "\u001b[0;32m/usr/local/lib/python3.7/dist-packages/sklearn/utils/validation.py\u001b[0m in \u001b[0;36mcheck_consistent_length\u001b[0;34m(*arrays)\u001b[0m\n\u001b[1;32m    327\u001b[0m     \"\"\"\n\u001b[1;32m    328\u001b[0m \u001b[0;34m\u001b[0m\u001b[0m\n\u001b[0;32m--> 329\u001b[0;31m     \u001b[0mlengths\u001b[0m \u001b[0;34m=\u001b[0m \u001b[0;34m[\u001b[0m\u001b[0m_num_samples\u001b[0m\u001b[0;34m(\u001b[0m\u001b[0mX\u001b[0m\u001b[0;34m)\u001b[0m \u001b[0;32mfor\u001b[0m \u001b[0mX\u001b[0m \u001b[0;32min\u001b[0m \u001b[0marrays\u001b[0m \u001b[0;32mif\u001b[0m \u001b[0mX\u001b[0m \u001b[0;32mis\u001b[0m \u001b[0;32mnot\u001b[0m \u001b[0;32mNone\u001b[0m\u001b[0;34m]\u001b[0m\u001b[0;34m\u001b[0m\u001b[0;34m\u001b[0m\u001b[0m\n\u001b[0m\u001b[1;32m    330\u001b[0m     \u001b[0muniques\u001b[0m \u001b[0;34m=\u001b[0m \u001b[0mnp\u001b[0m\u001b[0;34m.\u001b[0m\u001b[0munique\u001b[0m\u001b[0;34m(\u001b[0m\u001b[0mlengths\u001b[0m\u001b[0;34m)\u001b[0m\u001b[0;34m\u001b[0m\u001b[0;34m\u001b[0m\u001b[0m\n\u001b[1;32m    331\u001b[0m     \u001b[0;32mif\u001b[0m \u001b[0mlen\u001b[0m\u001b[0;34m(\u001b[0m\u001b[0muniques\u001b[0m\u001b[0;34m)\u001b[0m \u001b[0;34m>\u001b[0m \u001b[0;36m1\u001b[0m\u001b[0;34m:\u001b[0m\u001b[0;34m\u001b[0m\u001b[0;34m\u001b[0m\u001b[0m\n",
            "\u001b[0;32m/usr/local/lib/python3.7/dist-packages/sklearn/utils/validation.py\u001b[0m in \u001b[0;36m<listcomp>\u001b[0;34m(.0)\u001b[0m\n\u001b[1;32m    327\u001b[0m     \"\"\"\n\u001b[1;32m    328\u001b[0m \u001b[0;34m\u001b[0m\u001b[0m\n\u001b[0;32m--> 329\u001b[0;31m     \u001b[0mlengths\u001b[0m \u001b[0;34m=\u001b[0m \u001b[0;34m[\u001b[0m\u001b[0m_num_samples\u001b[0m\u001b[0;34m(\u001b[0m\u001b[0mX\u001b[0m\u001b[0;34m)\u001b[0m \u001b[0;32mfor\u001b[0m \u001b[0mX\u001b[0m \u001b[0;32min\u001b[0m \u001b[0marrays\u001b[0m \u001b[0;32mif\u001b[0m \u001b[0mX\u001b[0m \u001b[0;32mis\u001b[0m \u001b[0;32mnot\u001b[0m \u001b[0;32mNone\u001b[0m\u001b[0;34m]\u001b[0m\u001b[0;34m\u001b[0m\u001b[0;34m\u001b[0m\u001b[0m\n\u001b[0m\u001b[1;32m    330\u001b[0m     \u001b[0muniques\u001b[0m \u001b[0;34m=\u001b[0m \u001b[0mnp\u001b[0m\u001b[0;34m.\u001b[0m\u001b[0munique\u001b[0m\u001b[0;34m(\u001b[0m\u001b[0mlengths\u001b[0m\u001b[0;34m)\u001b[0m\u001b[0;34m\u001b[0m\u001b[0;34m\u001b[0m\u001b[0m\n\u001b[1;32m    331\u001b[0m     \u001b[0;32mif\u001b[0m \u001b[0mlen\u001b[0m\u001b[0;34m(\u001b[0m\u001b[0muniques\u001b[0m\u001b[0;34m)\u001b[0m \u001b[0;34m>\u001b[0m \u001b[0;36m1\u001b[0m\u001b[0;34m:\u001b[0m\u001b[0;34m\u001b[0m\u001b[0;34m\u001b[0m\u001b[0m\n",
            "\u001b[0;32m/usr/local/lib/python3.7/dist-packages/sklearn/utils/validation.py\u001b[0m in \u001b[0;36m_num_samples\u001b[0;34m(x)\u001b[0m\n\u001b[1;32m    268\u001b[0m         \u001b[0;32mif\u001b[0m \u001b[0mlen\u001b[0m\u001b[0;34m(\u001b[0m\u001b[0mx\u001b[0m\u001b[0;34m.\u001b[0m\u001b[0mshape\u001b[0m\u001b[0;34m)\u001b[0m \u001b[0;34m==\u001b[0m \u001b[0;36m0\u001b[0m\u001b[0;34m:\u001b[0m\u001b[0;34m\u001b[0m\u001b[0;34m\u001b[0m\u001b[0m\n\u001b[1;32m    269\u001b[0m             raise TypeError(\n\u001b[0;32m--> 270\u001b[0;31m                 \u001b[0;34m\"Singleton array %r cannot be considered a valid collection.\"\u001b[0m \u001b[0;34m%\u001b[0m \u001b[0mx\u001b[0m\u001b[0;34m\u001b[0m\u001b[0;34m\u001b[0m\u001b[0m\n\u001b[0m\u001b[1;32m    271\u001b[0m             )\n\u001b[1;32m    272\u001b[0m         \u001b[0;31m# Check that shape is returning an integer or default to len\u001b[0m\u001b[0;34m\u001b[0m\u001b[0;34m\u001b[0m\u001b[0;34m\u001b[0m\u001b[0m\n",
            "\u001b[0;31mTypeError\u001b[0m: Singleton array array(<129x132 sparse matrix of type '<class 'numpy.float64'>'\n\twith 308 stored elements in Compressed Sparse Row format>, dtype=object) cannot be considered a valid collection."
          ]
        }
      ]
    }
  ]
}